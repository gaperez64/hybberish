{
  "cells": [
    {
      "cell_type": "code",
      "execution_count": 1,
      "metadata": {
        "id": "aXX4AAKj4vKS"
      },
      "outputs": [],
      "source": [
        "# Imports\n",
        "import sympy\n",
        "import numpy\n",
        "from sympy.sets.setexpr import SetExpr\n",
        "from sympy.polys.orderings import monomial_key\n",
        "from math import factorial, floor\n",
        "from sympy.abc import t, x, y, s\n",
        "\n",
        "from matplotlib.collections import PatchCollection\n",
        "from matplotlib.patches import Rectangle\n",
        "import matplotlib.pyplot as plt\n",
        "\n",
        "from tm_integration import truncate_matrix, taylor_polynomials,\\\n",
        "                           picard_operator,\\\n",
        "                           refine_remainders, contractive_remainder,\\\n",
        "                           initial_set, create_box,\\\n",
        "                           tm_integration, tm_integration_iter"
      ]
    },
    {
      "cell_type": "code",
      "execution_count": 2,
      "metadata": {
        "id": "wnfHHn2B6YUO"
      },
      "outputs": [],
      "source": [
        "# Dynamics of Example 3.3.2 in Xin Chen's thesis\n",
        "allvars = [x, y]\n",
        "nxtstate = sympy.Matrix([1 + y, -(x ** 2)])"
      ]
    },
    {
      "cell_type": "code",
      "execution_count": 3,
      "metadata": {
        "id": "T4mq8o6K5D_e"
      },
      "outputs": [],
      "source": [
        "# Initial values\n",
        "x0 = (0, 0.5)\n",
        "y0 = (0, 0)\n",
        "init = [x0, y0]\n",
        "init_var = {x: sympy.Symbol(\"x_0\"), y: sympy.Symbol(\"y_0\")}"
      ]
    },
    {
      "cell_type": "code",
      "execution_count": 4,
      "metadata": {
        "colab": {
          "base_uri": "https://localhost:8080/"
        },
        "id": "dHVCSmuTHIYO",
        "outputId": "9c4abb1a-3770-454c-c8af-2156597972e4"
      },
      "outputs": [
        {
          "name": "stdout",
          "output_type": "stream",
          "text": [
            "degree =  3\n",
            "before;  Matrix([[4*x**3 + 10*x**2*y**2 + x*y**2 + x*y + 2*x*(y + 1) + 12*x + 2*y**3 + y + 1]])\n",
            "after:   Matrix([[4*x**3 + x*y**2 + 3*x*y + 14*x + 2*y**3 + y + 1]])\n"
          ]
        }
      ],
      "source": [
        "# Testing truncate_matrix\n",
        "ORDER: int = 3\n",
        "EXPR = 4 * x ** 3 + 2 * y ** 3 + 5 * x**2 * 2 * y ** 2 + x*y*y + x*y + 2*x*(y + 1) + 12 * x + y + 1\n",
        "matrix = sympy.Matrix([EXPR])\n",
        "print(\"degree = \", ORDER)\n",
        "print(\"before; \", matrix)\n",
        "print(\"after:  \", truncate_matrix(matrix, ORDER))"
      ]
    },
    {
      "cell_type": "code",
      "execution_count": 5,
      "metadata": {
        "colab": {
          "base_uri": "https://localhost:8080/",
          "height": 68
        },
        "id": "CkX6lH3T85DF",
        "outputId": "a0e8320a-2cc8-4e47-e234-27ee4ae55b61"
      },
      "outputs": [
        {
          "data": {
            "text/latex": [
              "$\\displaystyle \\left[\\begin{matrix}- \\frac{t^{3} x y}{3} - \\frac{t^{3} x}{3} - \\frac{t^{2} x^{2}}{2} + t y + t + x\\\\\\frac{t^{3} x^{3}}{3} - \\frac{t^{3} y^{2}}{3} - \\frac{2 t^{3} y}{3} - \\frac{t^{3}}{3} - t^{2} x y - t^{2} x - t x^{2} + y\\end{matrix}\\right]$"
            ],
            "text/plain": [
              "Matrix([\n",
              "[                              -t**3*x*y/3 - t**3*x/3 - t**2*x**2/2 + t*y + t + x],\n",
              "[t**3*x**3/3 - t**3*y**2/3 - 2*t**3*y/3 - t**3/3 - t**2*x*y - t**2*x - t*x**2 + y]])"
            ]
          },
          "execution_count": 5,
          "metadata": {},
          "output_type": "execute_result"
        }
      ],
      "source": [
        "# Compute Taylor polynomials of a chosen degree\n",
        "deg = 3\n",
        "TM0 = (sympy.Matrix([x, y]), init)\n",
        "\n",
        "# We will be needing the Taylor expansion of the function defined by\n",
        "# the dynamics\n",
        "lieDers = [TM0[0]]  # the 0-th entry is the original TM\n",
        "for i in reversed(range(deg)):\n",
        "  J = lieDers[-1].jacobian(sympy.Matrix(allvars))  # FIXME: Trunc_{i} not done\n",
        "  d = J * nxtstate  # FIXME: missing diff wrt time?\n",
        "  lieDers.append(d)\n",
        "\n",
        "# We are now ready to compute p1\n",
        "tay = sum([d * (t ** i) / factorial(i) for i, d in enumerate(lieDers)],\n",
        "          sympy.zeros(*lieDers[0].shape))\n",
        "tay = tay.applyfunc(lambda e: sympy.expand(e, key=monomial_key('lex', allvars)))\n",
        "tay\n",
        "# FIXME: Yes, yes, I still have to truncate things, it seems hard in sympy!"
      ]
    },
    {
      "cell_type": "markdown",
      "metadata": {
        "id": "8rx_b4cVg20k"
      },
      "source": [
        "Beware of the code below! I am trying to do one Picard operation to get the interval missing for a full Taylor model (look up, we only have the polynomial so far)."
      ]
    },
    {
      "cell_type": "code",
      "execution_count": 6,
      "metadata": {
        "colab": {
          "base_uri": "https://localhost:8080/",
          "height": 107
        },
        "id": "819WZE1HcY-e",
        "outputId": "3183f876-6701-4c06-9b8b-780011a58f14"
      },
      "outputs": [
        {
          "data": {
            "text/latex": [
              "$\\displaystyle \\left[\\begin{matrix}\\frac{t^{3} x^{3}}{3} - \\frac{t^{3} y^{2}}{3} - \\frac{2 t^{3} y}{3} - \\frac{t^{3}}{3} - t^{2} x y - t^{2} x - t x^{2} + y + 1\\\\- \\left(- \\frac{t^{3} x \\left(\\frac{t^{3} x^{3}}{3} - \\frac{t^{3} y^{2}}{3} - \\frac{2 t^{3} y}{3} - \\frac{t^{3}}{3} - t^{2} x y - t^{2} x - t x^{2} + y\\right)}{3} - \\frac{t^{3} x}{3} - \\frac{t^{2} x^{2}}{2} + t \\left(\\frac{t^{3} x^{3}}{3} - \\frac{t^{3} y^{2}}{3} - \\frac{2 t^{3} y}{3} - \\frac{t^{3}}{3} - t^{2} x y - t^{2} x - t x^{2} + y\\right) + t + x\\right)^{2}\\end{matrix}\\right]$"
            ],
            "text/plain": [
              "Matrix([\n",
              "[                                                                                                                                      t**3*x**3/3 - t**3*y**2/3 - 2*t**3*y/3 - t**3/3 - t**2*x*y - t**2*x - t*x**2 + y + 1],\n",
              "[-(-t**3*x*(t**3*x**3/3 - t**3*y**2/3 - 2*t**3*y/3 - t**3/3 - t**2*x*y - t**2*x - t*x**2 + y)/3 - t**3*x/3 - t**2*x**2/2 + t*(t**3*x**3/3 - t**3*y**2/3 - 2*t**3*y/3 - t**3/3 - t**2*x*y - t**2*x - t*x**2 + y) + t + x)**2]])"
            ]
          },
          "execution_count": 6,
          "metadata": {},
          "output_type": "execute_result"
        }
      ],
      "source": [
        "# Substitute polynomial p(x, y, t) into vector field f(x, y)\n",
        "toint = nxtstate.subs(zip(allvars, tay))\n",
        "toint"
      ]
    },
    {
      "cell_type": "code",
      "execution_count": 7,
      "metadata": {
        "colab": {
          "base_uri": "https://localhost:8080/",
          "height": 98
        },
        "id": "RlyAcpEFMyIS",
        "outputId": "209865cc-ce48-40eb-824c-43c88d48f4f9"
      },
      "outputs": [
        {
          "data": {
            "text/latex": [
              "$\\displaystyle \\left[\\begin{matrix}t^{4} \\left(\\frac{x^{3}}{12} - \\frac{y^{2}}{12} - \\frac{y}{6} - \\frac{1}{12}\\right) + t^{3} \\left(- \\frac{x y}{3} - \\frac{x}{3}\\right) - \\frac{t^{2} x^{2}}{2} + t \\left(s + y + 1\\right)\\\\t^{13} \\left(- \\frac{x^{8}}{1053} + \\frac{2 x^{5} y^{2}}{1053} + \\frac{4 x^{5} y}{1053} + \\frac{2 x^{5}}{1053} - \\frac{x^{2} y^{4}}{1053} - \\frac{4 x^{2} y^{3}}{1053} - \\frac{2 x^{2} y^{2}}{351} - \\frac{4 x^{2} y}{1053} - \\frac{x^{2}}{1053}\\right) + t^{12} \\left(\\frac{x^{6} y}{162} + \\frac{x^{6}}{162} - \\frac{x^{3} y^{3}}{162} - \\frac{x^{3} y^{2}}{54} - \\frac{x^{3} y}{54} - \\frac{x^{3}}{162}\\right) + t^{11} \\left(\\frac{4 x^{7}}{297} - \\frac{x^{4} y^{2}}{33} - \\frac{2 x^{4} y}{33} - \\frac{x^{4}}{33} + \\frac{2 x y^{4}}{297} + \\frac{8 x y^{3}}{297} + \\frac{4 x y^{2}}{99} + \\frac{8 x y}{297} + \\frac{2 x}{297}\\right) + t^{10} \\left(- \\frac{2 x^{5} y}{27} - \\frac{2 x^{5}}{27} + \\frac{7 x^{2} y^{3}}{135} + \\frac{7 x^{2} y^{2}}{45} + \\frac{7 x^{2} y}{45} + \\frac{7 x^{2}}{135}\\right) + t^{9} \\left(- \\frac{7 x^{6}}{81} + \\frac{5 x^{3} y^{2}}{27} + \\frac{10 x^{3} y}{27} + \\frac{5 x^{3}}{27} - \\frac{y^{4}}{81} - \\frac{4 y^{3}}{81} - \\frac{2 y^{2}}{27} - \\frac{4 y}{81} - \\frac{1}{81}\\right) + t^{8} \\left(\\frac{3 x^{4} y}{8} + \\frac{3 x^{4}}{8} - \\frac{5 x y^{3}}{36} - \\frac{5 x y^{2}}{12} - \\frac{5 x y}{12} - \\frac{5 x}{36}\\right) + t^{7} \\left(\\frac{20 x^{5}}{63} - \\frac{11 x^{2} y^{2}}{21} - \\frac{22 x^{2} y}{21} - \\frac{11 x^{2}}{21}\\right) + t^{6} \\left(- x^{3} y - x^{3} + \\frac{y^{3}}{9} + \\frac{y^{2}}{3} + \\frac{y}{3} + \\frac{1}{9}\\right) + t^{5} \\left(- \\frac{43 x^{4}}{60} + \\frac{2 x y^{2}}{3} + \\frac{4 x y}{3} + \\frac{2 x}{3}\\right) + t^{4} \\left(\\frac{17 x^{2} y}{12} + \\frac{17 x^{2}}{12}\\right) + t^{3} \\left(x^{3} - \\frac{y^{2}}{3} - \\frac{2 y}{3} - \\frac{1}{3}\\right) + t^{2} \\left(- x y - x\\right) + t \\left(s - x^{2}\\right)\\end{matrix}\\right]$"
            ],
            "text/plain": [
              "Matrix([\n",
              "[                                                                                                                                                                                                                                                                                                                                                                                                                                                                                                                                                                                                                                                                                                                                                                                                                                                                       t**4*(x**3/12 - y**2/12 - y/6 - 1/12) + t**3*(-x*y/3 - x/3) - t**2*x**2/2 + t*(s + y + 1)],\n",
              "[t**13*(-x**8/1053 + 2*x**5*y**2/1053 + 4*x**5*y/1053 + 2*x**5/1053 - x**2*y**4/1053 - 4*x**2*y**3/1053 - 2*x**2*y**2/351 - 4*x**2*y/1053 - x**2/1053) + t**12*(x**6*y/162 + x**6/162 - x**3*y**3/162 - x**3*y**2/54 - x**3*y/54 - x**3/162) + t**11*(4*x**7/297 - x**4*y**2/33 - 2*x**4*y/33 - x**4/33 + 2*x*y**4/297 + 8*x*y**3/297 + 4*x*y**2/99 + 8*x*y/297 + 2*x/297) + t**10*(-2*x**5*y/27 - 2*x**5/27 + 7*x**2*y**3/135 + 7*x**2*y**2/45 + 7*x**2*y/45 + 7*x**2/135) + t**9*(-7*x**6/81 + 5*x**3*y**2/27 + 10*x**3*y/27 + 5*x**3/27 - y**4/81 - 4*y**3/81 - 2*y**2/27 - 4*y/81 - 1/81) + t**8*(3*x**4*y/8 + 3*x**4/8 - 5*x*y**3/36 - 5*x*y**2/12 - 5*x*y/12 - 5*x/36) + t**7*(20*x**5/63 - 11*x**2*y**2/21 - 22*x**2*y/21 - 11*x**2/21) + t**6*(-x**3*y - x**3 + y**3/9 + y**2/3 + y/3 + 1/9) + t**5*(-43*x**4/60 + 2*x*y**2/3 + 4*x*y/3 + 2*x/3) + t**4*(17*x**2*y/12 + 17*x**2/12) + t**3*(x**3 - y**2/3 - 2*y/3 - 1/3) + t**2*(-x*y - x) + t*(s - x**2)]])"
            ]
          },
          "execution_count": 7,
          "metadata": {},
          "output_type": "execute_result"
        }
      ],
      "source": [
        "# The '+ s' term before integration serves to add the initial remainder estimate\n",
        "# J0 to the interval evaluation of the integral of e. See table 3.3. step 4. where\n",
        "# something similar is done\n",
        "pic = toint.applyfunc(lambda e: sympy.integrate(e + s, t))\n",
        "pic"
      ]
    },
    {
      "cell_type": "code",
      "execution_count": 8,
      "metadata": {
        "colab": {
          "base_uri": "https://localhost:8080/",
          "height": 78
        },
        "id": "_SZ3GzmaZAo4",
        "outputId": "55599de4-c115-4350-f364-9b5616f52d5f"
      },
      "outputs": [
        {
          "data": {
            "text/latex": [
              "$\\displaystyle \\left[\\begin{matrix}s t + \\frac{t^{4} x^{3}}{12} - \\frac{t^{4} y^{2}}{12} - \\frac{t^{4} y}{6} - \\frac{t^{4}}{12} - \\frac{t^{3} x y}{3} - \\frac{t^{3} x}{3} - \\frac{t^{2} x^{2}}{2} + t y + t\\\\s t + \\frac{17 t^{4} x^{2} y}{12} + \\frac{17 t^{4} x^{2}}{12} + t^{3} x^{3} - \\frac{t^{3} y^{2}}{3} - \\frac{2 t^{3} y}{3} - \\frac{t^{3}}{3} - t^{2} x y - t^{2} x - t x^{2}\\end{matrix}\\right]$"
            ],
            "text/plain": [
              "Matrix([\n",
              "[                s*t + t**4*x**3/12 - t**4*y**2/12 - t**4*y/6 - t**4/12 - t**3*x*y/3 - t**3*x/3 - t**2*x**2/2 + t*y + t],\n",
              "[s*t + 17*t**4*x**2*y/12 + 17*t**4*x**2/12 + t**3*x**3 - t**3*y**2/3 - 2*t**3*y/3 - t**3/3 - t**2*x*y - t**2*x - t*x**2]])"
            ]
          },
          "execution_count": 8,
          "metadata": {},
          "output_type": "execute_result"
        }
      ],
      "source": [
        "pic = pic.applyfunc(lambda e: (sympy.expand(e) + sympy.O(t ** 5)).removeO())\n",
        "pic"
      ]
    },
    {
      "cell_type": "code",
      "execution_count": 9,
      "metadata": {
        "colab": {
          "base_uri": "https://localhost:8080/",
          "height": 68
        },
        "id": "MY2OGcqSZuoR",
        "outputId": "2e5de589-5e5a-4b76-883d-5c40451fe69d"
      },
      "outputs": [
        {
          "data": {
            "text/latex": [
              "$\\displaystyle \\left[\\begin{matrix}s t + \\frac{t^{4} x^{3}}{12} - \\frac{t^{4} y^{2}}{12} - \\frac{t^{4} y}{6} - \\frac{t^{4}}{12}\\\\s t + \\frac{17 t^{4} x^{2} y}{12} + \\frac{17 t^{4} x^{2}}{12} + \\frac{2 t^{3} x^{3}}{3}\\end{matrix}\\right]$"
            ],
            "text/plain": [
              "Matrix([\n",
              "[   s*t + t**4*x**3/12 - t**4*y**2/12 - t**4*y/6 - t**4/12],\n",
              "[s*t + 17*t**4*x**2*y/12 + 17*t**4*x**2/12 + 2*t**3*x**3/3]])"
            ]
          },
          "execution_count": 9,
          "metadata": {},
          "output_type": "execute_result"
        }
      ],
      "source": [
        "# allvars + pic = the full picard operator output expression.\n",
        "# It is an over-approximation of the flow/true ODE solution?\n",
        "# ==> Doing '- tay' essentially computes a remainder estimate?\n",
        "onlys = sympy.Matrix(allvars) + pic - tay\n",
        "onlys = onlys.applyfunc(lambda e: sympy.expand(e))\n",
        "onlys"
      ]
    },
    {
      "cell_type": "code",
      "execution_count": 10,
      "metadata": {
        "colab": {
          "base_uri": "https://localhost:8080/"
        },
        "id": "ZKE4lHxCg0Tm",
        "outputId": "eb073cb9-d169-4348-9732-ac6e84404b76"
      },
      "outputs": [
        {
          "data": {
            "text/plain": [
              "array([[interval(-0.002000, 0.002000)],\n",
              "       [interval(-0.002000, 0.002000)]], dtype=object)"
            ]
          },
          "execution_count": 10,
          "metadata": {},
          "output_type": "execute_result"
        }
      ],
      "source": [
        "# We now evaluate the above on the intervals we have so far and a \"guess\"\n",
        "# for the new intervals to see if we get something smaller than the guess\n",
        "# This is based on https://stackoverflow.com/questions/59170963/sympy-interval-math\n",
        "lerr = sympy.lambdify(tuple([x, y, t, s]), onlys)\n",
        "xdom = sympy.plotting.intervalmath.interval(-0.002,0.002)\n",
        "ydom = sympy.plotting.intervalmath.interval(-0.0021, 0.0021)\n",
        "tdom = sympy.plotting.intervalmath.interval(0, 0.02)\n",
        "I0 = sympy.plotting.intervalmath.interval(-0.1, 0.1)\n",
        "Il = lerr(x=xdom, y=ydom, t=tdom, s=I0)\n",
        "Il"
      ]
    },
    {
      "cell_type": "markdown",
      "metadata": {},
      "source": [
        "## Test the building blocks for TM integration\n",
        "\n",
        "Test the functions that operate as the building blocks of TM integration on the running example. This helps with intuition and trouble shooting."
      ]
    },
    {
      "cell_type": "code",
      "execution_count": 11,
      "metadata": {},
      "outputs": [
        {
          "data": {
            "text/latex": [
              "$\\displaystyle \\left[\\begin{matrix}t y + t + x\\\\- \\frac{t^{3}}{3} - t^{2} x - t x^{2} + y\\end{matrix}\\right]$"
            ],
            "text/plain": [
              "Matrix([\n",
              "[                  t*y + t + x],\n",
              "[-t**3/3 - t**2*x - t*x**2 + y]])"
            ]
          },
          "execution_count": 11,
          "metadata": {},
          "output_type": "execute_result"
        }
      ],
      "source": [
        "# Manually check for the expected taylor polynomial\n",
        "X0 = (sympy.Matrix([x, y]), init)\n",
        "taylor_polynomials(X0[0], allvars, nxtstate, 3)"
      ]
    },
    {
      "cell_type": "code",
      "execution_count": 12,
      "metadata": {},
      "outputs": [
        {
          "data": {
            "text/latex": [
              "$\\displaystyle \\left[\\begin{matrix}s t + t y + t + x\\\\s t - \\frac{t^{3}}{3} - t^{2} x - t x^{2} + y\\end{matrix}\\right]$"
            ],
            "text/plain": [
              "Matrix([\n",
              "[                 s*t + t*y + t + x],\n",
              "[s*t - t**3/3 - t**2*x - t*x**2 + y]])"
            ]
          },
          "execution_count": 12,
          "metadata": {},
          "output_type": "execute_result"
        }
      ],
      "source": [
        "# Manually check for the exoected picard operator result.\n",
        "order: int = 3\n",
        "taylor_poly = taylor_polynomials(\n",
        "    X0[0], allvars, order=order, ode=nxtstate)\n",
        "picard_operator(taylor_poly, nxtstate, allvars, order)"
      ]
    },
    {
      "cell_type": "code",
      "execution_count": 13,
      "metadata": {},
      "outputs": [
        {
          "data": {
            "text/plain": [
              "array([interval(-0.004042, 0.024042), interval(-0.004104, 0.004101)],\n",
              "      dtype=object)"
            ]
          },
          "execution_count": 13,
          "metadata": {},
          "output_type": "execute_result"
        }
      ],
      "source": [
        "# Refine the given remainder intervals a single time.\n",
        "refine_remainders(tay, nxtstate, allvars, ode_intervals=[\n",
        "    sympy.plotting.intervalmath.interval(-0.002,0.002),    # x  w.r.t. ode_variables\n",
        "    sympy.plotting.intervalmath.interval(-0.0021, 0.0021)  # y  w.r.t. ode_variables\n",
        "], remainder_intervals=numpy.array([\n",
        "    sympy.plotting.intervalmath.interval(-0.1, 0.1),  # x  w.r.t. ode_variables\n",
        "    sympy.plotting.intervalmath.interval(-0.1, 0.1)   # y  w.r.t. ode_variables\n",
        "]), time=sympy.plotting.intervalmath.interval(0, 0.02),\n",
        "    order=3)"
      ]
    },
    {
      "cell_type": "code",
      "execution_count": 14,
      "metadata": {},
      "outputs": [
        {
          "data": {
            "text/plain": [
              "array([interval(-0.002123, 0.022523), interval(-0.002186, 0.002183)],\n",
              "      dtype=object)"
            ]
          },
          "execution_count": 14,
          "metadata": {},
          "output_type": "execute_result"
        }
      ],
      "source": [
        "# Generate a contractive remainder Il that has ALSO been refined as\n",
        "# many times as specified. So the output is not just an interval that\n",
        "# has been verified to be contractive, but that is also refined.\n",
        "contractive_remainder(tay, nxtstate, allvars, ode_intervals=numpy.array([\n",
        "    sympy.plotting.intervalmath.interval(-0.002,0.002),    # x  w.r.t. ode_variables\n",
        "    sympy.plotting.intervalmath.interval(-0.0021, 0.0021)  # y  w.r.t. ode_variables\n",
        "]), initial_remainders=numpy.array([\n",
        "    sympy.plotting.intervalmath.interval(-0.1, 0.1),  # x  w.r.t. ode_variables\n",
        "    sympy.plotting.intervalmath.interval(-0.1, 0.1)   # y  w.r.t. ode_variables\n",
        "]), time=sympy.plotting.intervalmath.interval(0, 0.02),\n",
        "    order=3,\n",
        "    nr_contractiveness_tries=10,\n",
        "    contractiveness_scale=2.0,\n",
        "    nr_refinements=1)\n"
      ]
    },
    {
      "cell_type": "code",
      "execution_count": 15,
      "metadata": {},
      "outputs": [
        {
          "data": {
            "text/plain": [
              "(Matrix([\n",
              " [                           0.02*s + 0.0002*x**2 + 2.66666666666667e-6*x*y + 2.66666666666667e-6*x],\n",
              " [0.02*s - 2.66666666666667e-6*x**3 + 0.0004*x*y + 2.66666666666667e-6*y**2 + 5.33333333333333e-6*y]]),\n",
              " array([[interval(-0.002000, 0.002000)],\n",
              "        [interval(-0.002000, 0.002000)]], dtype=object))"
            ]
          },
          "execution_count": 15,
          "metadata": {},
          "output_type": "execute_result"
        }
      ],
      "source": [
        "# Generate the initial set of the following tm integration iteration.\n",
        "initial_set(picard_operator(tay, nxtstate, allvars, deg) - tay,\n",
        "                 intervals=Il,\n",
        "                 time_var=t,\n",
        "                 time=tdom)"
      ]
    },
    {
      "cell_type": "markdown",
      "metadata": {},
      "source": [
        "## Manually work out a single TM integration step\n",
        "Try to manually work out a single TM integration step. Start by manually choosing X0 and then generating X1 by piecing together functions."
      ]
    },
    {
      "cell_type": "code",
      "execution_count": 16,
      "metadata": {},
      "outputs": [
        {
          "data": {
            "text/plain": [
              "(Matrix([\n",
              " [                              x + 0.02*y + 0.02],\n",
              " [-0.02*x**2 - 0.0004*x + y - 2.66666666666667e-6]]),\n",
              " array([interval(-0.004042, 0.024042), interval(-0.004104, 0.004101)],\n",
              "       dtype=object))"
            ]
          },
          "execution_count": 16,
          "metadata": {},
          "output_type": "execute_result"
        }
      ],
      "source": [
        "#\n",
        "# SETUP INPUTS\n",
        "#\n",
        "\n",
        "# Specify intervals for various variables.\n",
        "ode_var_intervals = numpy.array([\n",
        "    sympy.plotting.intervalmath.interval(-0.0020, 0.0020),  # x  w.r.t. ode_variables\n",
        "    sympy.plotting.intervalmath.interval(-0.0021, 0.0021)   # y  w.r.t. ode_variables\n",
        "])\n",
        "\n",
        "initial_remainder_estimates = numpy.array([\n",
        "    sympy.plotting.intervalmath.interval(-0.1, 0.1),  # s variable valuation w.r.t. x in the ode_variables\n",
        "    sympy.plotting.intervalmath.interval(-0.1, 0.1)   # s variable valuation w.r.t. y in the ode_variables\n",
        "])\n",
        "time_interval = sympy.plotting.intervalmath.interval(0, 0.02)  # t variable valuation\n",
        "\n",
        "# Specify the input ODE and related parameters\n",
        "degree: int = 3     # Taylor polynomial pl degree\n",
        "ode_vars = [x, y]   # Ordered list of all ODE variables\n",
        "p0 = sympy.Matrix([x, y])   # The polynomial part of the very first initial set X0\n",
        "X0 = (p0, [])   # The very first initial set X0\n",
        "ode = sympy.Matrix([1 + y, -(x ** 2)])  # The ODEs to over-approximate\n",
        "\n",
        "\n",
        "\n",
        "\n",
        "#\n",
        "# STEP 1: Compute the Taylor approximation of the true flow\n",
        "#\n",
        "\n",
        "taylor_polys = taylor_polynomials(X0[0], ode_vars, ode, order=degree)\n",
        "\n",
        "\n",
        "\n",
        "#\n",
        "# STEP 2: Compute a safe remainder estimate.\n",
        "#\n",
        "Il = contractive_remainder(\n",
        "    taylor_polys,\n",
        "    ode,\n",
        "    ode_vars,\n",
        "    ode_intervals=ode_var_intervals,\n",
        "    initial_remainders=initial_remainder_estimates,\n",
        "    time=time_interval,\n",
        "    order=degree,\n",
        "    nr_contractiveness_tries=10,\n",
        "    contractiveness_scale=2.0,\n",
        "    nr_refinements=0)\n",
        "\n",
        "\n",
        "\n",
        "#\n",
        "# STEP 3: Compute next iteration's initial set\n",
        "#\n",
        "Xl = initial_set(taylor_polys, Il, t, time_interval)\n",
        "Xl\n"
      ]
    },
    {
      "cell_type": "markdown",
      "metadata": {},
      "source": [
        "## Figure out how to draw boxes to a plot\n",
        "Plotting each TM flowpipe can be done using one interval enclosure per flowpipe. For a 2-dimensional ODE (i.e. x' = ..., y' = ... has exactly two vars: x and y) we can use 2D boxes to plot each flowpipe."
      ]
    },
    {
      "cell_type": "code",
      "execution_count": 17,
      "metadata": {},
      "outputs": [
        {
          "data": {
            "image/png": "[encoded data removed]",
            "text/plain": [
              "<Figure size 640x480 with 1 Axes>"
            ]
          },
          "metadata": {},
          "output_type": "display_data"
        }
      ],
      "source": [
        "# Testing create_box\n",
        "patches = []\n",
        "patches.append(create_box(0, 0, 0.4, 0.3))\n",
        "patches.append(create_box(1, 1, 6, 4))\n",
        "patches.append(create_box(2, 1.5, 7, 4.5))\n",
        "coll = PatchCollection(patches, match_original=True)\n",
        "plt.gca().add_collection(coll)\n",
        "\n",
        "\n",
        "plt.gca().axis('equal')\n",
        "plt.show()"
      ]
    },
    {
      "cell_type": "markdown",
      "metadata": {},
      "source": [
        "## Manually string together TM integration calls\n",
        "\n",
        "First string together a few tm integration calls manually to figure out how the actual integration loop fits together."
      ]
    },
    {
      "cell_type": "code",
      "execution_count": 18,
      "metadata": {},
      "outputs": [
        {
          "data": {
            "text/plain": [
              "(Matrix([\n",
              " [                              x + 0.02*y + 0.02],\n",
              " [-0.02*x**2 - 0.0004*x + y - 2.66666666666667e-6]]),\n",
              " array([interval(-0.004042, 0.024042), interval(-0.004104, 0.004101)],\n",
              "       dtype=object))"
            ]
          },
          "execution_count": 18,
          "metadata": {},
          "output_type": "execute_result"
        }
      ],
      "source": [
        "# Specify intervals for various variables.\n",
        "ode_var_intervals = numpy.array([\n",
        "    sympy.plotting.intervalmath.interval(-0.0020, 0.0020),  # x  w.r.t. ode_variables\n",
        "    sympy.plotting.intervalmath.interval(-0.0021, 0.0021)   # y  w.r.t. ode_variables\n",
        "])\n",
        "\n",
        "initial_remainder_estimates = numpy.array([\n",
        "    sympy.plotting.intervalmath.interval(-0.1, 0.1),  # s variable valuation w.r.t. x in the ode_variables\n",
        "    sympy.plotting.intervalmath.interval(-0.1, 0.1)   # s variable valuation w.r.t. y in the ode_variables\n",
        "])\n",
        "time_interval = sympy.plotting.intervalmath.interval(0, 0.02)  # t variable valuation\n",
        "\n",
        "# Specify the input ODE and related parameters\n",
        "degree: int = 3     # Taylor polynomial pl degree\n",
        "ode_vars = [x, y]   # Ordered list of all ODE variables\n",
        "p0 = sympy.Matrix([x, y])   # The polynomial part of the very first initial set X0\n",
        "X0 = (p0, initial_remainder_estimates)  # The very first initial set X0\n",
        "ode = sympy.Matrix([1 + y, -(x ** 2)])  # The ODEs to over-approximate\n",
        "\n",
        "X1 = tm_integration_iter(\n",
        "    X0, ode, ode_vars, ode_var_intervals, initial_remainder_estimates,\n",
        "    degree, 10, 2.0, 0, time_interval.end\n",
        ")\n",
        "X1"
      ]
    },
    {
      "cell_type": "code",
      "execution_count": 19,
      "metadata": {},
      "outputs": [
        {
          "data": {
            "text/plain": [
              "(Matrix([\n",
              " [              -0.0004*x**2 + 0.999992*x + 0.04*y + 0.0399999466666667],\n",
              " [-0.04*x**2 - 0.0008*x*y - 0.0016*x + 0.999976*y - 2.13333333333333e-5]]),\n",
              " array([interval(-0.004042, 0.024042), interval(-0.004121, 0.004102)],\n",
              "       dtype=object))"
            ]
          },
          "execution_count": 19,
          "metadata": {},
          "output_type": "execute_result"
        }
      ],
      "source": [
        "X2 = tm_integration_iter(\n",
        "    X1, ode, ode_vars, ode_var_intervals, initial_remainder_estimates,\n",
        "    degree, 10, 2.0, 0, time_interval.end\n",
        ")\n",
        "X2"
      ]
    },
    {
      "cell_type": "code",
      "execution_count": 20,
      "metadata": {},
      "outputs": [
        {
          "data": {
            "text/plain": [
              "(Matrix([\n",
              " [                       -0.0012*x**2 - 1.6e-5*x*y + 0.99996*x + 0.05999952*y + 0.05999952],\n",
              " [-0.05999952*x**2 - 0.0024*x*y - 0.0035999904*x - 1.6e-5*y**2 + 0.999896*y - 7.1999936e-5]]),\n",
              " array([interval(-0.004043, 0.024042), interval(-0.004155, 0.004104)],\n",
              "       dtype=object))"
            ]
          },
          "execution_count": 20,
          "metadata": {},
          "output_type": "execute_result"
        }
      ],
      "source": [
        "X3 = tm_integration_iter(\n",
        "    X2, ode, ode_vars, ode_var_intervals, initial_remainder_estimates,\n",
        "    degree, 10, 2.0, 0, time_interval.end\n",
        ")\n",
        "X3"
      ]
    },
    {
      "cell_type": "markdown",
      "metadata": {},
      "source": [
        "## Automatic TM integration V1\n",
        "\n",
        "Now try to come manually up with the tm integration loop, which should produce a list of tm flowpipe over-approximations."
      ]
    },
    {
      "cell_type": "code",
      "execution_count": 21,
      "metadata": {},
      "outputs": [
        {
          "data": {
            "image/png": "[encoded data removed]",
            "text/plain": [
              "<Figure size 640x480 with 1 Axes>"
            ]
          },
          "metadata": {},
          "output_type": "display_data"
        }
      ],
      "source": [
        "initial_box = numpy.array([\n",
        "    sympy.plotting.intervalmath.interval(-1.0, 1.0),  # x  w.r.t. ode_variables\n",
        "    sympy.plotting.intervalmath.interval(-0.5, 0.5)   # y  w.r.t. ode_variables\n",
        "])\n",
        "\n",
        "\n",
        "\n",
        "# The ode variables take on the same interval value regardless of which component\n",
        "# in the taylor polynomial vector.\n",
        "interval_values = {\n",
        "    var: interval\n",
        "    for var, interval in zip(ode_vars, initial_box)\n",
        "}\n",
        "\n",
        "# Xl is fixed at t = δi???? So pl does not \n",
        "tm_flowpipes = [X0, X1, X2, X3]\n",
        "patches = []\n",
        "for i, fp in enumerate(tm_flowpipes):\n",
        "    # Unpack flowpipe into polynomial pl(Xl, δi) and remainder Il\n",
        "    pl, Il = fp\n",
        "\n",
        "    # Compute interval enclosure of the flowpipe\n",
        "    enclosure = sympy.lambdify(ode_vars, pl)(\n",
        "        **{ var.name: interval for var, interval in interval_values.items() }\n",
        "    )\n",
        "    # Peel away redundant layer of nesting: [[ix], [iy], ...] => [ix, iy]\n",
        "    # Turn a list of one-element lists into just a list of elements.\n",
        "    if len(enclosure.shape) > 1:\n",
        "        enclosure = numpy.concatenate(enclosure).ravel()\n",
        "    \n",
        "    # The remainder represents the uncertainty/error on the polynomial's enclosure.\n",
        "    enclosure = enclosure + Il\n",
        "\n",
        "    # Generate 2D box for visualization\n",
        "    assert enclosure.shape == (2,), \"Cannot visualize, expected one 2-dimensional box.\"\n",
        "    boxx, boxy = enclosure\n",
        "    patches.append(create_box(boxx.start, boxy.start, boxx.end, boxy.end))\n",
        "\n",
        "\n",
        "coll = PatchCollection(patches, match_original=True)\n",
        "plt.gca().add_collection(coll)\n",
        "plt.gca().axis('equal')\n",
        "plt.show()"
      ]
    },
    {
      "cell_type": "markdown",
      "metadata": {},
      "source": [
        "## Automatic TM integration V2\n",
        "\n",
        "Call the complete TM integration function and plot the resulting boxes."
      ]
    },
    {
      "cell_type": "code",
      "execution_count": 22,
      "metadata": {},
      "outputs": [
        {
          "data": {
            "image/png": "[encoded data removed]",
            "text/plain": [
              "<Figure size 640x480 with 1 Axes>"
            ]
          },
          "metadata": {},
          "output_type": "display_data"
        }
      ],
      "source": [
        "initial_box = numpy.array([\n",
        "    sympy.plotting.intervalmath.interval(-1.0, 1.0),  # x  w.r.t. ode_variables\n",
        "    sympy.plotting.intervalmath.interval(-0.5, 0.5)   # y  w.r.t. ode_variables\n",
        "])\n",
        "\n",
        "\n",
        "time_horizon = sympy.plotting.intervalmath.interval(0, 1.0)\n",
        "nr_contractiveness_tries = 10\n",
        "contractiveness_scale = 2.0\n",
        "nr_refinements = 0\n",
        "time_step_size = 0.02\n",
        "time_step_epsilon = 0.0001\n",
        "\n",
        "tm_flowpipes, boxes = tm_integration(\n",
        "               ode_vars,\n",
        "               ode,\n",
        "               ode_var_intervals,\n",
        "\n",
        "               initial_box,\n",
        "               initial_remainder_estimates,\n",
        "\n",
        "               time_horizon,\n",
        "               time_step_size,\n",
        "               time_step_epsilon,\n",
        "\n",
        "               degree,\n",
        "               nr_contractiveness_tries,\n",
        "               contractiveness_scale,\n",
        "               nr_refinements)\n",
        "\n",
        "coll = PatchCollection(boxes, match_original=True)\n",
        "plt.gca().add_collection(coll)\n",
        "plt.gca().axis('equal')\n",
        "plt.show()"
      ]
    }
  ],
  "metadata": {
    "colab": {
      "provenance": []
    },
    "kernelspec": {
      "display_name": "Python 3",
      "name": "python3"
    },
    "language_info": {
      "codemirror_mode": {
        "name": "ipython",
        "version": 3
      },
      "file_extension": ".py",
      "mimetype": "text/x-python",
      "name": "python",
      "nbconvert_exporter": "python",
      "pygments_lexer": "ipython3",
      "version": "3.10.12"
    }
  },
  "nbformat": 4,
  "nbformat_minor": 0
}
